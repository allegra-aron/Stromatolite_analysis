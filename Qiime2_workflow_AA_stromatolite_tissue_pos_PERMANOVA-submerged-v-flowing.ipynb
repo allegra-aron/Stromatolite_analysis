{
 "cells": [
  {
   "cell_type": "code",
   "execution_count": 1,
   "metadata": {},
   "outputs": [],
   "source": [
    "import qiime2\n",
    "import os"
   ]
  },
  {
   "cell_type": "code",
   "execution_count": 2,
   "metadata": {},
   "outputs": [],
   "source": [
    "import pandas as pd"
   ]
  },
  {
   "cell_type": "code",
   "execution_count": 3,
   "metadata": {},
   "outputs": [],
   "source": [
    "#import feature table as .csv\n",
    "\n",
    "ftable=pd.read_csv('Stromatolite_Tissue_pos_022420_w_IIN_quant_norm_10min_2.csv', \n",
    "                     sep=',', index_col='sample_name')"
   ]
  },
  {
   "cell_type": "code",
   "execution_count": 4,
   "metadata": {},
   "outputs": [],
   "source": [
    "#format for qiime2 conversion\n",
    "\n",
    "ftable.reset_index().to_csv(\n",
    "    'Stromatolite_Tissue_pos_022420_w_IIN_quant_norm_10min_2.txt', \n",
    "    sep='\\t', index=False)"
   ]
  },
  {
   "cell_type": "code",
   "execution_count": 5,
   "metadata": {},
   "outputs": [
    {
     "name": "stderr",
     "output_type": "stream",
     "text": [
      "bash: line 2: activate: No such file or directory\n"
     ]
    }
   ],
   "source": [
    "%%bash\n",
    "\n",
    "source activate qiime2-2020.2\n",
    "\n",
    "biom convert -i  Stromatolite_Tissue_pos_022420_w_IIN_quant_norm_10min_2.txt \\\n",
    " -o Stromatolite_Tissue_pos_022420_w_IIN_quant_norm_10min_2.biom --to-hdf5\n"
   ]
  },
  {
   "cell_type": "code",
   "execution_count": 6,
   "metadata": {},
   "outputs": [
    {
     "name": "stdout",
     "output_type": "stream",
     "text": [
      "Imported Stromatolite_Tissue_pos_022420_w_IIN_quant_norm_10min_2.biom as BIOMV210DirFmt to Stromatolite_Tissue_pos_022420_w_IIN_quant_norm_10min_2.qza\n"
     ]
    },
    {
     "name": "stderr",
     "output_type": "stream",
     "text": [
      "bash: line 2: activate: No such file or directory\n"
     ]
    }
   ],
   "source": [
    "%%bash\n",
    "\n",
    "source activate qiime2-2020.2\n",
    "\n",
    "qiime tools import --input-path Stromatolite_Tissue_pos_022420_w_IIN_quant_norm_10min_2.biom \\\n",
    "--output-path Stromatolite_Tissue_pos_022420_w_IIN_quant_norm_10min_2.qza \\\n",
    "--type FeatureTable[Frequency]"
   ]
  },
  {
   "cell_type": "code",
   "execution_count": 7,
   "metadata": {},
   "outputs": [
    {
     "name": "stdout",
     "output_type": "stream",
     "text": [
      "Saved FeatureTable[Frequency] to: Stromatolite_Tissue_pos_022420_w_IIN_quant_norm_10min_2_filtered.qza\n"
     ]
    },
    {
     "name": "stderr",
     "output_type": "stream",
     "text": [
      "bash: line 2: activate: No such file or directory\n"
     ]
    }
   ],
   "source": [
    "%%bash\n",
    "\n",
    "source activate qiime2-2020.2\n",
    "\n",
    "qiime feature-table filter-samples \\\n",
    " --i-table Stromatolite_Tissue_pos_022420_w_IIN_quant_norm_10min_2.qza \\\n",
    " --m-metadata-file StromatoliteTissue_Pos_metadata_022420_submergedcolumn_2.txt \\\n",
    " --o-filtered-table Stromatolite_Tissue_pos_022420_w_IIN_quant_norm_10min_2_filtered.qza"
   ]
  },
  {
   "cell_type": "code",
   "execution_count": 8,
   "metadata": {},
   "outputs": [
    {
     "name": "stdout",
     "output_type": "stream",
     "text": [
      "Saved DistanceMatrix to: Stromatolite_Tissue_pos_022420_w_IIN_quant_norm_10min_2_BC.qza\n"
     ]
    },
    {
     "name": "stderr",
     "output_type": "stream",
     "text": [
      "bash: line 2: activate: No such file or directory\n"
     ]
    }
   ],
   "source": [
    "%%bash\n",
    "\n",
    "source activate qiime2-2020.2\n",
    "\n",
    "qiime diversity beta \\\n",
    " --i-table Stromatolite_Tissue_pos_022420_w_IIN_quant_norm_10min_2_filtered.qza \\\n",
    " --p-metric braycurtis \\\n",
    " --o-distance-matrix Stromatolite_Tissue_pos_022420_w_IIN_quant_norm_10min_2_BC.qza"
   ]
  },
  {
   "cell_type": "code",
   "execution_count": 9,
   "metadata": {},
   "outputs": [
    {
     "name": "stdout",
     "output_type": "stream",
     "text": [
      "Saved Visualization to: Stromatolite_Tissue_pos_022420_w_IIN_quant_norm_10min-significance.qzv\n"
     ]
    },
    {
     "name": "stderr",
     "output_type": "stream",
     "text": [
      "bash: line 2: activate: No such file or directory\n"
     ]
    }
   ],
   "source": [
    "%%bash\n",
    "\n",
    "source activate qiime2-2019.10\n",
    "\n",
    "qiime diversity beta-group-significance \\\n",
    "  --i-distance-matrix Stromatolite_Tissue_pos_022420_w_IIN_quant_norm_10min_2_BC.qza \\\n",
    "  --m-metadata-file StromatoliteTissue_Pos_metadata_022420_submergedcolumn_2.txt \\\n",
    "  --m-metadata-column ATTRIBUTE_submerged \\\n",
    "  --o-visualization Stromatolite_Tissue_pos_022420_w_IIN_quant_norm_10min-significance.qzv"
   ]
  },
  {
   "cell_type": "code",
   "execution_count": 20,
   "metadata": {},
   "outputs": [
    {
     "name": "stdout",
     "output_type": "stream",
     "text": [
      "Saved PCoAResults to: Stromatolite_Tissue_pos_022420_w_IIN_quant_norm_10min_2_BC_pcoa.qza\n"
     ]
    },
    {
     "name": "stderr",
     "output_type": "stream",
     "text": [
      "bash: line 2: activate: No such file or directory\n"
     ]
    }
   ],
   "source": [
    "%%bash\n",
    "\n",
    "source activate qiime2-2020.2\n",
    "\n",
    "qiime diversity pcoa \\\n",
    " --i-distance-matrix Stromatolite_Tissue_pos_022420_w_IIN_quant_norm_10min_2_BC.qza \\\n",
    " --o-pcoa Stromatolite_Tissue_pos_022420_w_IIN_quant_norm_10min_2_BC_pcoa.qza"
   ]
  },
  {
   "cell_type": "code",
   "execution_count": 21,
   "metadata": {},
   "outputs": [
    {
     "name": "stdout",
     "output_type": "stream",
     "text": [
      "Saved Visualization to: Stromatolite_Tissue_pos_022420_w_IIN_quant_norm_10min_2_BC_pcoa.qzv\n"
     ]
    },
    {
     "name": "stderr",
     "output_type": "stream",
     "text": [
      "bash: line 2: activate: No such file or directory\n"
     ]
    }
   ],
   "source": [
    "%%bash\n",
    "\n",
    "source activate qiime2-2019.10\n",
    "\n",
    "qiime emperor plot \\\n",
    " --i-pcoa Stromatolite_Tissue_pos_022420_w_IIN_quant_norm_10min_2_BC_pcoa.qza \\\n",
    " --m-metadata-file StromatoliteTissue_Pos_metadata_022420_submergedcolumn_2.txt \\\n",
    " --o-visualization Stromatolite_Tissue_pos_022420_w_IIN_quant_norm_10min_2_BC_pcoa.qzv"
   ]
  },
  {
   "cell_type": "code",
   "execution_count": 13,
   "metadata": {},
   "outputs": [
    {
     "name": "stdout",
     "output_type": "stream",
     "text": [
      "Saved FeatureTable[RelativeFrequency] to: Stromatolite_Tissue_pos_022420_w_IIN_quant_norm_10min_2_RelFreq.qza\n"
     ]
    },
    {
     "name": "stderr",
     "output_type": "stream",
     "text": [
      "Could not find conda environment: qiime2-2019.10\n",
      "You can list all discoverable environments with `conda info --envs`.\n",
      "\n"
     ]
    }
   ],
   "source": [
    "%%bash\n",
    "\n",
    "source activate qiime2-2019.10\n",
    "\n",
    "qiime feature-table relative-frequency \\\n",
    " --i-table Stromatolite_Tissue_pos_022420_w_IIN_quant_norm_10min_2.qza \\\n",
    " --o-relative-frequency-table Stromatolite_Tissue_pos_022420_w_IIN_quant_norm_10min_2_RelFreq.qza"
   ]
  },
  {
   "cell_type": "code",
   "execution_count": 15,
   "metadata": {},
   "outputs": [
    {
     "name": "stdout",
     "output_type": "stream",
     "text": [
      "Saved PCoAResults to: Stromatolite_Tissue_pos_022420_w_IIN_quant_norm_10min_2_BC_PCoA.qza\n"
     ]
    },
    {
     "name": "stderr",
     "output_type": "stream",
     "text": [
      "Could not find conda environment: qiime2-2019.10\n",
      "You can list all discoverable environments with `conda info --envs`.\n",
      "\n"
     ]
    }
   ],
   "source": [
    "%%bash\n",
    "\n",
    "source activate qiime2-2019.10\n",
    "\n",
    "qiime diversity pcoa \\\n",
    " --i-distance-matrix Stromatolite_Tissue_pos_022420_w_IIN_quant_norm_10min_2_BC.qza \\\n",
    " --p-number-of-dimensions 10 \\\n",
    " --o-pcoa Stromatolite_Tissue_pos_022420_w_IIN_quant_norm_10min_2_BC_PCoA.qza"
   ]
  },
  {
   "cell_type": "code",
   "execution_count": 16,
   "metadata": {},
   "outputs": [
    {
     "name": "stdout",
     "output_type": "stream",
     "text": [
      "Saved PCoAResults % Properties('biplot') to: Stromatolite_Tissue_pos_022420_w_IIN_quant_norm_10min_2_BC_PCoA_biplot.qza\n"
     ]
    },
    {
     "name": "stderr",
     "output_type": "stream",
     "text": [
      "Could not find conda environment: qiime2-2019.10\n",
      "You can list all discoverable environments with `conda info --envs`.\n",
      "\n"
     ]
    }
   ],
   "source": [
    "%%bash\n",
    "\n",
    "source activate qiime2-2019.10\n",
    "\n",
    "qiime diversity pcoa-biplot \\\n",
    "  --i-pcoa Stromatolite_Tissue_pos_022420_w_IIN_quant_norm_10min_2_BC_PCoA.qza \\\n",
    "  --i-features Stromatolite_Tissue_pos_022420_w_IIN_quant_norm_10min_2_RelFreq.qza \\\n",
    "  --o-biplot Stromatolite_Tissue_pos_022420_w_IIN_quant_norm_10min_2_BC_PCoA_biplot.qza"
   ]
  },
  {
   "cell_type": "code",
   "execution_count": 17,
   "metadata": {},
   "outputs": [
    {
     "name": "stdout",
     "output_type": "stream",
     "text": [
      "Saved Visualization to: Stromatolite_Tissue_pos_022420_w_IIN_quant_norm_10min_2_BC_PCoA_biplot.qzv\n"
     ]
    },
    {
     "name": "stderr",
     "output_type": "stream",
     "text": [
      "Could not find conda environment: qiime2-2019.10\n",
      "You can list all discoverable environments with `conda info --envs`.\n",
      "\n"
     ]
    }
   ],
   "source": [
    "%%bash\n",
    "\n",
    "source activate qiime2-2019.10\n",
    "\n",
    "qiime emperor biplot \\\n",
    "  --i-biplot Stromatolite_Tissue_pos_022420_w_IIN_quant_norm_10min_2_BC_PCoA_biplot.qza \\\n",
    "  --m-sample-metadata-file StromatoliteTissue_Pos_metadata_022420_submergedcolumn_2.txt \\\n",
    "  --p-number-of-features 10 \\\n",
    "  --o-visualization Stromatolite_Tissue_pos_022420_w_IIN_quant_norm_10min_2_BC_PCoA_biplot.qzv"
   ]
  },
  {
   "cell_type": "code",
   "execution_count": null,
   "metadata": {},
   "outputs": [],
   "source": []
  }
 ],
 "metadata": {
  "kernelspec": {
   "display_name": "Python 3",
   "language": "python",
   "name": "python3"
  },
  "language_info": {
   "codemirror_mode": {
    "name": "ipython",
    "version": 3
   },
   "file_extension": ".py",
   "mimetype": "text/x-python",
   "name": "python",
   "nbconvert_exporter": "python",
   "pygments_lexer": "ipython3",
   "version": "3.8.5"
  }
 },
 "nbformat": 4,
 "nbformat_minor": 2
}
