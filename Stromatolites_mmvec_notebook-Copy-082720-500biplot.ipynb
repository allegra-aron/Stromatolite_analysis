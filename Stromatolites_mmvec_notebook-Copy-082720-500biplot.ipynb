{
 "cells": [
  {
   "cell_type": "code",
   "execution_count": 2,
   "metadata": {},
   "outputs": [],
   "source": [
    "import os\n",
    "import qiime2"
   ]
  },
  {
   "cell_type": "code",
   "execution_count": 3,
   "metadata": {},
   "outputs": [],
   "source": [
    "import pandas as pd"
   ]
  },
  {
   "cell_type": "code",
   "execution_count": 4,
   "metadata": {},
   "outputs": [],
   "source": [
    "#import metabolites feature table as .csv\n",
    "\n",
    "ftable=pd.read_csv('metabolite_feature_table_final.csv', \n",
    "                     sep=',', index_col='sampleid')"
   ]
  },
  {
   "cell_type": "code",
   "execution_count": 5,
   "metadata": {},
   "outputs": [],
   "source": [
    "#format metabolites feature table for qiime2 conversion\n",
    "\n",
    "ftable.reset_index().to_csv(\n",
    "    'metabolite_feature_table_final.txt', \n",
    "    sep='\\t', index=False)"
   ]
  },
  {
   "cell_type": "code",
   "execution_count": 6,
   "metadata": {},
   "outputs": [
    {
     "name": "stderr",
     "output_type": "stream",
     "text": [
      "Could not find conda environment: qiime2-2019.10\n",
      "You can list all discoverable environments with `conda info --envs`.\n",
      "\n"
     ]
    }
   ],
   "source": [
    "%%bash\n",
    "\n",
    "source activate qiime2-2019.10\n",
    "\n",
    "# convert metabolites feature table to .biom \n",
    "\n",
    "biom convert -i metabolite_feature_table_final.txt \\\n",
    "-o metabolite_feature_table_final.biom --to-hdf5"
   ]
  },
  {
   "cell_type": "code",
   "execution_count": null,
   "metadata": {},
   "outputs": [],
   "source": []
  },
  {
   "cell_type": "markdown",
   "metadata": {},
   "source": [
    "%%bash\n",
    "\n",
    "source activate qiime2-2019.10\n",
    "\n",
    "# convert metabolites feature table to a FeatureTable format --> .qza file\n",
    "\n",
    "qiime tools import --input-path metabolite_feature_table_final.biom \\\n",
    "--output-path metabolite_feature_table_final.qza \\\n",
    "--type FeatureTable[Frequency]"
   ]
  },
  {
   "cell_type": "code",
   "execution_count": 7,
   "metadata": {},
   "outputs": [],
   "source": [
    "#import microbes feature table as .csv\n",
    "\n",
    "ftable=pd.read_csv('microbes_feature_table_otu.csv', \n",
    "                     sep=',', index_col='featureid')"
   ]
  },
  {
   "cell_type": "code",
   "execution_count": 8,
   "metadata": {},
   "outputs": [],
   "source": [
    "#format microbes feature table for qiime2 conversion\n",
    "\n",
    "ftable.reset_index().to_csv(\n",
    "    'microbes_feature_table_otu.txt', \n",
    "    sep='\\t', index=False)"
   ]
  },
  {
   "cell_type": "code",
   "execution_count": 9,
   "metadata": {},
   "outputs": [
    {
     "name": "stderr",
     "output_type": "stream",
     "text": [
      "Could not find conda environment: qiime2-2019.10\n",
      "You can list all discoverable environments with `conda info --envs`.\n",
      "\n"
     ]
    }
   ],
   "source": [
    "%%bash\n",
    "\n",
    "source activate qiime2-2019.10\n",
    "\n",
    "# convert microbes feature table to .biom \n",
    "\n",
    "biom convert -i microbes_feature_table_otu.txt \\\n",
    "-o microbes_feature_table_otu.biom --to-hdf5"
   ]
  },
  {
   "cell_type": "code",
   "execution_count": 10,
   "metadata": {},
   "outputs": [
    {
     "name": "stdout",
     "output_type": "stream",
     "text": [
      "Imported microbes_feature_table_otu.biom as BIOMV210DirFmt to microbes_feature_table_otu.qza\n"
     ]
    },
    {
     "name": "stderr",
     "output_type": "stream",
     "text": [
      "Could not find conda environment: qiime2-2019.10\n",
      "You can list all discoverable environments with `conda info --envs`.\n",
      "\n"
     ]
    }
   ],
   "source": [
    "%%bash\n",
    "\n",
    "source activate qiime2-2019.10\n",
    "\n",
    "# convert metabolites feature table to a FeatureTable format --> .qza file\n",
    "\n",
    "qiime tools import \\\n",
    "--input-path microbes_feature_table_otu.biom \\\n",
    "--output-path microbes_feature_table_otu.qza \\\n",
    "--type FeatureTable[Frequency]"
   ]
  },
  {
   "cell_type": "code",
   "execution_count": 18,
   "metadata": {},
   "outputs": [
    {
     "name": "stdout",
     "output_type": "stream",
     "text": [
      "Saved FeatureData[Conditional] to: EM_LearningRate_1e-1_ranks.qza\n",
      "Saved PCoAResults % Properties('biplot') to: EM_LearningRate_1e-1_biplot.qza\n"
     ]
    },
    {
     "name": "stderr",
     "output_type": "stream",
     "text": [
      "Could not find conda environment: qiime2-2020.6\n",
      "You can list all discoverable environments with `conda info --envs`.\n",
      "\n"
     ]
    }
   ],
   "source": [
    "%%bash\n",
    "\n",
    "source activate qiime2-2020.6\n",
    "# Run mmvec\n",
    "\n",
    "qiime mmvec paired-omics \\\n",
    "--i-microbes microbes_feature_table_otu.qza \\\n",
    "--i-metabolites metabolite_feature_table_final.qza \\\n",
    "--p-learning-rate 1e-1 \\\n",
    "--o-conditionals EM_LearningRate_1e-1_ranks.qza \\\n",
    "--o-conditional-biplot EM_LearningRate_1e-1_biplot.qza"
   ]
  },
  {
   "cell_type": "code",
   "execution_count": 68,
   "metadata": {},
   "outputs": [
    {
     "name": "stdout",
     "output_type": "stream",
     "text": [
      "Saved Visualization to: EM_LearningRate_1e-1_ranks.qzv\n"
     ]
    },
    {
     "name": "stderr",
     "output_type": "stream",
     "text": [
      "Could not find conda environment: qiime2-2020.2\n",
      "You can list all discoverable environments with `conda info --envs`.\n",
      "\n"
     ]
    }
   ],
   "source": [
    "%%bash\n",
    "\n",
    "source activate qiime2-2020.2\n",
    "\n",
    "qiime metadata tabulate \\\n",
    "--m-input-file EM_LearningRate_1e-1_ranks.qza \\\n",
    "--o-visualization EM_LearningRate_1e-1_ranks.qzv"
   ]
  },
  {
   "cell_type": "code",
   "execution_count": 15,
   "metadata": {},
   "outputs": [
    {
     "name": "stdout",
     "output_type": "stream",
     "text": [
      "Saved FeatureData[Conditional] to: EM_LearningRate_1e-2_ranks.qza\n",
      "Saved PCoAResults % Properties('biplot') to: EM_LearningRate_1e-2_biplot.qza\n"
     ]
    },
    {
     "name": "stderr",
     "output_type": "stream",
     "text": [
      "Could not find conda environment: qiime2-2020.6\n",
      "You can list all discoverable environments with `conda info --envs`.\n",
      "\n"
     ]
    }
   ],
   "source": [
    "%%bash\n",
    "\n",
    "source activate qiime2-2020.6\n",
    "# Run mmvec\n",
    "\n",
    "qiime mmvec paired-omics \\\n",
    "--i-microbes microbes_feature_table_otu.qza \\\n",
    "--i-metabolites metabolite_feature_table_final.qza \\\n",
    "--p-learning-rate 1e-2 \\\n",
    "--o-conditionals EM_LearningRate_1e-2_ranks.qza \\\n",
    "--o-conditional-biplot EM_LearningRate_1e-2_biplot.qza"
   ]
  },
  {
   "cell_type": "code",
   "execution_count": 19,
   "metadata": {},
   "outputs": [
    {
     "name": "stdout",
     "output_type": "stream",
     "text": [
      "Saved Visualization to: EM_LearningRate_1e-2_ranks.qzv\n"
     ]
    },
    {
     "name": "stderr",
     "output_type": "stream",
     "text": [
      "Could not find conda environment: qiime2-2020.2\n",
      "You can list all discoverable environments with `conda info --envs`.\n",
      "\n"
     ]
    }
   ],
   "source": [
    "%%bash\n",
    "\n",
    "source activate qiime2-2020.2\n",
    "\n",
    "qiime metadata tabulate \\\n",
    "--m-input-file EM_LearningRate_1e-2_ranks.qza \\\n",
    "--o-visualization EM_LearningRate_1e-2_ranks.qzv"
   ]
  },
  {
   "cell_type": "code",
   "execution_count": 16,
   "metadata": {},
   "outputs": [
    {
     "name": "stdout",
     "output_type": "stream",
     "text": [
      "Saved FeatureData[Conditional] to: EM_LearningRate_1e-3_ranks.qza\n",
      "Saved PCoAResults % Properties('biplot') to: EM_LearningRate_1e-3_biplot.qza\n"
     ]
    },
    {
     "name": "stderr",
     "output_type": "stream",
     "text": [
      "Could not find conda environment: qiime2-2020.6\n",
      "You can list all discoverable environments with `conda info --envs`.\n",
      "\n"
     ]
    }
   ],
   "source": [
    "%%bash\n",
    "\n",
    "source activate qiime2-2020.6\n",
    "# Run mmvec\n",
    "\n",
    "qiime mmvec paired-omics \\\n",
    "--i-microbes microbes_feature_table_otu.qza \\\n",
    "--i-metabolites metabolite_feature_table_final.qza \\\n",
    "--p-learning-rate 1e-3 \\\n",
    "--o-conditionals EM_LearningRate_1e-3_ranks.qza \\\n",
    "--o-conditional-biplot EM_LearningRate_1e-3_biplot.qza"
   ]
  },
  {
   "cell_type": "code",
   "execution_count": 20,
   "metadata": {},
   "outputs": [
    {
     "name": "stdout",
     "output_type": "stream",
     "text": [
      "Saved Visualization to: EM_LearningRate_1e-3_ranks.qzv\n"
     ]
    },
    {
     "name": "stderr",
     "output_type": "stream",
     "text": [
      "Could not find conda environment: qiime2-2020.2\n",
      "You can list all discoverable environments with `conda info --envs`.\n",
      "\n"
     ]
    }
   ],
   "source": [
    "%%bash\n",
    "\n",
    "source activate qiime2-2020.2\n",
    "\n",
    "qiime metadata tabulate \\\n",
    "--m-input-file EM_LearningRate_1e-3_ranks.qza \\\n",
    "--o-visualization EM_LearningRate_1e-3_ranks.qzv"
   ]
  },
  {
   "cell_type": "code",
   "execution_count": 11,
   "metadata": {},
   "outputs": [
    {
     "name": "stderr",
     "output_type": "stream",
     "text": [
      "Could not find conda environment: qiime2-2020.6\n",
      "You can list all discoverable environments with `conda info --envs`.\n",
      "\n",
      "Usage: qiime mmvec paired-omics [OPTIONS]\n",
      "\n",
      "  Performs bi-loglinear multinomial regression and calculates the\n",
      "  conditional probability ranks of metabolite co-occurence given the microbe\n",
      "  presence.\n",
      "\n",
      "Inputs:\n",
      "  --i-microbes ARTIFACT FeatureTable[Frequency]\n",
      "                          Input table of microbial counts.          [required]\n",
      "  --i-metabolites ARTIFACT FeatureTable[Frequency]\n",
      "                          Input table of metabolite intensities.    [required]\n",
      "Parameters:\n",
      "  --m-metadata-file METADATA...\n",
      "    (multiple arguments   Sample metadata table with covariates of interest.\n",
      "     will be merged)                                                [optional]\n",
      "  --p-training-column TEXT\n",
      "                          The metadata column specifying which samples are\n",
      "                          for training/testing. Entries must be marked `Train`\n",
      "                          for training examples and `Test` for testing\n",
      "                          examples.                                 [optional]\n",
      "  --p-num-testing-examples INTEGER\n",
      "                          The number of random examples to select if\n",
      "                          `training-column` isn't specified.      [default: 5]\n",
      "  --p-min-feature-count INTEGER\n",
      "                                                                 [default: 10]\n",
      "  --p-epochs INTEGER      The total number of iterations over the entire\n",
      "                          dataset.                              [default: 100]\n",
      "  --p-batch-size INTEGER  The number of samples to be evaluated per training\n",
      "                          iteration.                             [default: 50]\n",
      "  --p-latent-dim INTEGER                                          [default: 3]\n",
      "  --p-input-prior NUMBER  Width of normal prior for the microbial\n",
      "                          coefficients. Smaller values will regularize\n",
      "                          parameters towards zero. Values must be greater than\n",
      "                          0.                                      [default: 1]\n",
      "  --p-output-prior NUMBER Width of normal prior for the metabolite\n",
      "                          coefficients. Smaller values will regularize\n",
      "                          parameters towards zero. Values must be greater than\n",
      "                          0.                                      [default: 1]\n",
      "  --p-learning-rate NUMBER\n",
      "                          Gradient descent decay rate.        [default: 0.001]\n",
      "  --p-equalize-biplot / --p-no-equalize-biplot\n",
      "                          Biplot arrows and points are on the same scale.\n",
      "                                                              [default: False]\n",
      "  --p-arm-the-gpu / --p-no-arm-the-gpu\n",
      "                          Specifies whether or not to use the GPU.\n",
      "                                                              [default: False]\n",
      "  --p-summary-interval INTEGER\n",
      "                                                                 [default: 60]\n",
      "Outputs:\n",
      "  --o-conditionals ARTIFACT FeatureData[Conditional]\n",
      "                          Mean-centered Conditional log-probabilities.\n",
      "                                                                    [required]\n",
      "  --o-conditional-biplot ARTIFACT PCoAResults % Properties('biplot')\n",
      "                          Biplot of microbe-metabolite vectors.     [required]\n",
      "  --o-model-stats ARTIFACT SampleData[MMvecStats]\n",
      "                                                                    [required]\n",
      "Miscellaneous:\n",
      "  --output-dir PATH       Output unspecified results to a directory\n",
      "  --verbose / --quiet     Display verbose output to stdout and/or stderr\n",
      "                          during execution of this action. Or silence output\n",
      "                          if execution is successful (silence is golden).\n",
      "  --examples              Show usage examples and exit.\n",
      "  --citations             Show citations and exit.\n",
      "  --help                  Show this message and exit.\n",
      "\n",
      "                    There was a problem with the command:                     \n",
      " (1/1) Missing option '--o-model-stats'.  (\"--output-dir\" may also be used)\n"
     ]
    },
    {
     "ename": "CalledProcessError",
     "evalue": "Command 'b'\\nsource activate qiime2-2020.6\\n# Run mmvec\\n\\nqiime mmvec paired-omics \\\\\\n--i-microbes microbes_feature_table_otu.qza \\\\\\n--i-metabolites metabolite_feature_table_final.qza \\\\\\n--p-learning-rate 1e-5 \\\\\\n--o-conditionals EM_LearningRate_1e-5_ranks.qza \\\\\\n--o-conditional-biplot EM_LearningRate_1e-5_biplot.qza\\n'' returned non-zero exit status 1.",
     "output_type": "error",
     "traceback": [
      "\u001b[0;31m---------------------------------------------------------------------------\u001b[0m",
      "\u001b[0;31mCalledProcessError\u001b[0m                        Traceback (most recent call last)",
      "\u001b[0;32m<ipython-input-11-e10cdfc3fd33>\u001b[0m in \u001b[0;36m<module>\u001b[0;34m\u001b[0m\n\u001b[0;32m----> 1\u001b[0;31m \u001b[0mget_ipython\u001b[0m\u001b[0;34m(\u001b[0m\u001b[0;34m)\u001b[0m\u001b[0;34m.\u001b[0m\u001b[0mrun_cell_magic\u001b[0m\u001b[0;34m(\u001b[0m\u001b[0;34m'bash'\u001b[0m\u001b[0;34m,\u001b[0m \u001b[0;34m''\u001b[0m\u001b[0;34m,\u001b[0m \u001b[0;34m'\\nsource activate qiime2-2020.6\\n# Run mmvec\\n\\nqiime mmvec paired-omics \\\\\\n--i-microbes microbes_feature_table_otu.qza \\\\\\n--i-metabolites metabolite_feature_table_final.qza \\\\\\n--p-learning-rate 1e-5 \\\\\\n--o-conditionals EM_LearningRate_1e-5_ranks.qza \\\\\\n--o-conditional-biplot EM_LearningRate_1e-5_biplot.qza\\n'\u001b[0m\u001b[0;34m)\u001b[0m\u001b[0;34m\u001b[0m\u001b[0;34m\u001b[0m\u001b[0m\n\u001b[0m",
      "\u001b[0;32m/opt/anaconda3/envs/qiime2-2021.2/lib/python3.6/site-packages/IPython/core/interactiveshell.py\u001b[0m in \u001b[0;36mrun_cell_magic\u001b[0;34m(self, magic_name, line, cell)\u001b[0m\n\u001b[1;32m   2369\u001b[0m             \u001b[0;32mwith\u001b[0m \u001b[0mself\u001b[0m\u001b[0;34m.\u001b[0m\u001b[0mbuiltin_trap\u001b[0m\u001b[0;34m:\u001b[0m\u001b[0;34m\u001b[0m\u001b[0;34m\u001b[0m\u001b[0m\n\u001b[1;32m   2370\u001b[0m                 \u001b[0margs\u001b[0m \u001b[0;34m=\u001b[0m \u001b[0;34m(\u001b[0m\u001b[0mmagic_arg_s\u001b[0m\u001b[0;34m,\u001b[0m \u001b[0mcell\u001b[0m\u001b[0;34m)\u001b[0m\u001b[0;34m\u001b[0m\u001b[0;34m\u001b[0m\u001b[0m\n\u001b[0;32m-> 2371\u001b[0;31m                 \u001b[0mresult\u001b[0m \u001b[0;34m=\u001b[0m \u001b[0mfn\u001b[0m\u001b[0;34m(\u001b[0m\u001b[0;34m*\u001b[0m\u001b[0margs\u001b[0m\u001b[0;34m,\u001b[0m \u001b[0;34m**\u001b[0m\u001b[0mkwargs\u001b[0m\u001b[0;34m)\u001b[0m\u001b[0;34m\u001b[0m\u001b[0;34m\u001b[0m\u001b[0m\n\u001b[0m\u001b[1;32m   2372\u001b[0m             \u001b[0;32mreturn\u001b[0m \u001b[0mresult\u001b[0m\u001b[0;34m\u001b[0m\u001b[0;34m\u001b[0m\u001b[0m\n\u001b[1;32m   2373\u001b[0m \u001b[0;34m\u001b[0m\u001b[0m\n",
      "\u001b[0;32m/opt/anaconda3/envs/qiime2-2021.2/lib/python3.6/site-packages/IPython/core/magics/script.py\u001b[0m in \u001b[0;36mnamed_script_magic\u001b[0;34m(line, cell)\u001b[0m\n\u001b[1;32m    140\u001b[0m             \u001b[0;32melse\u001b[0m\u001b[0;34m:\u001b[0m\u001b[0;34m\u001b[0m\u001b[0;34m\u001b[0m\u001b[0m\n\u001b[1;32m    141\u001b[0m                 \u001b[0mline\u001b[0m \u001b[0;34m=\u001b[0m \u001b[0mscript\u001b[0m\u001b[0;34m\u001b[0m\u001b[0;34m\u001b[0m\u001b[0m\n\u001b[0;32m--> 142\u001b[0;31m             \u001b[0;32mreturn\u001b[0m \u001b[0mself\u001b[0m\u001b[0;34m.\u001b[0m\u001b[0mshebang\u001b[0m\u001b[0;34m(\u001b[0m\u001b[0mline\u001b[0m\u001b[0;34m,\u001b[0m \u001b[0mcell\u001b[0m\u001b[0;34m)\u001b[0m\u001b[0;34m\u001b[0m\u001b[0;34m\u001b[0m\u001b[0m\n\u001b[0m\u001b[1;32m    143\u001b[0m \u001b[0;34m\u001b[0m\u001b[0m\n\u001b[1;32m    144\u001b[0m         \u001b[0;31m# write a basic docstring:\u001b[0m\u001b[0;34m\u001b[0m\u001b[0;34m\u001b[0m\u001b[0;34m\u001b[0m\u001b[0m\n",
      "\u001b[0;32m<decorator-gen-110>\u001b[0m in \u001b[0;36mshebang\u001b[0;34m(self, line, cell)\u001b[0m\n",
      "\u001b[0;32m/opt/anaconda3/envs/qiime2-2021.2/lib/python3.6/site-packages/IPython/core/magic.py\u001b[0m in \u001b[0;36m<lambda>\u001b[0;34m(f, *a, **k)\u001b[0m\n\u001b[1;32m    185\u001b[0m     \u001b[0;31m# but it's overkill for just that one bit of state.\u001b[0m\u001b[0;34m\u001b[0m\u001b[0;34m\u001b[0m\u001b[0;34m\u001b[0m\u001b[0m\n\u001b[1;32m    186\u001b[0m     \u001b[0;32mdef\u001b[0m \u001b[0mmagic_deco\u001b[0m\u001b[0;34m(\u001b[0m\u001b[0marg\u001b[0m\u001b[0;34m)\u001b[0m\u001b[0;34m:\u001b[0m\u001b[0;34m\u001b[0m\u001b[0;34m\u001b[0m\u001b[0m\n\u001b[0;32m--> 187\u001b[0;31m         \u001b[0mcall\u001b[0m \u001b[0;34m=\u001b[0m \u001b[0;32mlambda\u001b[0m \u001b[0mf\u001b[0m\u001b[0;34m,\u001b[0m \u001b[0;34m*\u001b[0m\u001b[0ma\u001b[0m\u001b[0;34m,\u001b[0m \u001b[0;34m**\u001b[0m\u001b[0mk\u001b[0m\u001b[0;34m:\u001b[0m \u001b[0mf\u001b[0m\u001b[0;34m(\u001b[0m\u001b[0;34m*\u001b[0m\u001b[0ma\u001b[0m\u001b[0;34m,\u001b[0m \u001b[0;34m**\u001b[0m\u001b[0mk\u001b[0m\u001b[0;34m)\u001b[0m\u001b[0;34m\u001b[0m\u001b[0;34m\u001b[0m\u001b[0m\n\u001b[0m\u001b[1;32m    188\u001b[0m \u001b[0;34m\u001b[0m\u001b[0m\n\u001b[1;32m    189\u001b[0m         \u001b[0;32mif\u001b[0m \u001b[0mcallable\u001b[0m\u001b[0;34m(\u001b[0m\u001b[0marg\u001b[0m\u001b[0;34m)\u001b[0m\u001b[0;34m:\u001b[0m\u001b[0;34m\u001b[0m\u001b[0;34m\u001b[0m\u001b[0m\n",
      "\u001b[0;32m/opt/anaconda3/envs/qiime2-2021.2/lib/python3.6/site-packages/IPython/core/magics/script.py\u001b[0m in \u001b[0;36mshebang\u001b[0;34m(self, line, cell)\u001b[0m\n\u001b[1;32m    243\u001b[0m             \u001b[0msys\u001b[0m\u001b[0;34m.\u001b[0m\u001b[0mstderr\u001b[0m\u001b[0;34m.\u001b[0m\u001b[0mflush\u001b[0m\u001b[0;34m(\u001b[0m\u001b[0;34m)\u001b[0m\u001b[0;34m\u001b[0m\u001b[0;34m\u001b[0m\u001b[0m\n\u001b[1;32m    244\u001b[0m         \u001b[0;32mif\u001b[0m \u001b[0margs\u001b[0m\u001b[0;34m.\u001b[0m\u001b[0mraise_error\u001b[0m \u001b[0;32mand\u001b[0m \u001b[0mp\u001b[0m\u001b[0;34m.\u001b[0m\u001b[0mreturncode\u001b[0m\u001b[0;34m!=\u001b[0m\u001b[0;36m0\u001b[0m\u001b[0;34m:\u001b[0m\u001b[0;34m\u001b[0m\u001b[0;34m\u001b[0m\u001b[0m\n\u001b[0;32m--> 245\u001b[0;31m             \u001b[0;32mraise\u001b[0m \u001b[0mCalledProcessError\u001b[0m\u001b[0;34m(\u001b[0m\u001b[0mp\u001b[0m\u001b[0;34m.\u001b[0m\u001b[0mreturncode\u001b[0m\u001b[0;34m,\u001b[0m \u001b[0mcell\u001b[0m\u001b[0;34m,\u001b[0m \u001b[0moutput\u001b[0m\u001b[0;34m=\u001b[0m\u001b[0mout\u001b[0m\u001b[0;34m,\u001b[0m \u001b[0mstderr\u001b[0m\u001b[0;34m=\u001b[0m\u001b[0merr\u001b[0m\u001b[0;34m)\u001b[0m\u001b[0;34m\u001b[0m\u001b[0;34m\u001b[0m\u001b[0m\n\u001b[0m\u001b[1;32m    246\u001b[0m \u001b[0;34m\u001b[0m\u001b[0m\n\u001b[1;32m    247\u001b[0m     \u001b[0;32mdef\u001b[0m \u001b[0m_run_script\u001b[0m\u001b[0;34m(\u001b[0m\u001b[0mself\u001b[0m\u001b[0;34m,\u001b[0m \u001b[0mp\u001b[0m\u001b[0;34m,\u001b[0m \u001b[0mcell\u001b[0m\u001b[0;34m,\u001b[0m \u001b[0mto_close\u001b[0m\u001b[0;34m)\u001b[0m\u001b[0;34m:\u001b[0m\u001b[0;34m\u001b[0m\u001b[0;34m\u001b[0m\u001b[0m\n",
      "\u001b[0;31mCalledProcessError\u001b[0m: Command 'b'\\nsource activate qiime2-2020.6\\n# Run mmvec\\n\\nqiime mmvec paired-omics \\\\\\n--i-microbes microbes_feature_table_otu.qza \\\\\\n--i-metabolites metabolite_feature_table_final.qza \\\\\\n--p-learning-rate 1e-5 \\\\\\n--o-conditionals EM_LearningRate_1e-5_ranks.qza \\\\\\n--o-conditional-biplot EM_LearningRate_1e-5_biplot.qza\\n'' returned non-zero exit status 1."
     ]
    }
   ],
   "source": [
    "%%bash\n",
    "\n",
    "source activate qiime2-2020.6\n",
    "# Run mmvec\n",
    "\n",
    "qiime mmvec paired-omics \\\n",
    "--i-microbes microbes_feature_table_otu.qza \\\n",
    "--i-metabolites metabolite_feature_table_final.qza \\\n",
    "--p-learning-rate 1e-5 \\\n",
    "--o-conditionals EM_LearningRate_1e-5_ranks.qza \\\n",
    "--o-conditional-biplot EM_LearningRate_1e-5_biplot.qza"
   ]
  },
  {
   "cell_type": "code",
   "execution_count": 2,
   "metadata": {},
   "outputs": [
    {
     "name": "stdout",
     "output_type": "stream",
     "text": [
      "Saved FeatureData[Conditional] to: EM_LearningRate_1e-5_ranks-200.qza\n",
      "Saved PCoAResults % Properties('biplot') to: EM_LearningRate_1e-5_biplot-200.qza\n"
     ]
    },
    {
     "name": "stderr",
     "output_type": "stream",
     "text": [
      "Could not find conda environment: qiime2-2020.6\n",
      "You can list all discoverable environments with `conda info --envs`.\n",
      "\n"
     ]
    }
   ],
   "source": [
    "%%bash\n",
    "\n",
    "source activate qiime2-2020.6\n",
    "# Run mmvec\n",
    "\n",
    "qiime mmvec paired-omics \\\n",
    "--i-microbes microbes_feature_table_otu.qza \\\n",
    "--i-metabolites metabolite_feature_table_final.qza \\\n",
    "--p-learning-rate 1e-5 \\\n",
    "--p-epochs 200 \\\n",
    "--o-conditionals EM_LearningRate_1e-5_ranks-200.qza \\\n",
    "--o-conditional-biplot EM_LearningRate_1e-5_biplot-200.qza"
   ]
  },
  {
   "cell_type": "code",
   "execution_count": 4,
   "metadata": {},
   "outputs": [
    {
     "name": "stdout",
     "output_type": "stream",
     "text": [
      "Saved Visualization to: EM_LearningRate_1e-5_biplot_viz-200-epochs.qzv\n"
     ]
    },
    {
     "name": "stderr",
     "output_type": "stream",
     "text": [
      "Could not find conda environment: qiime2-2020.2\n",
      "You can list all discoverable environments with `conda info --envs`.\n",
      "\n"
     ]
    }
   ],
   "source": [
    "%%bash\n",
    "\n",
    "source activate qiime2-2020.2\n",
    "\n",
    "qiime emperor biplot \\\n",
    "--i-biplot EM_LearningRate_1e-5_biplot-200.qza \\\n",
    "--m-sample-metadata-file metabolites_metadata_table_final.txt \\\n",
    "--m-feature-metadata-file microbe_metadata_features_new_otu.txt \\\n",
    "--p-number-of-features 10 \\\n",
    "--o-visualization EM_LearningRate_1e-5_biplot_viz-200-epochs.qzv"
   ]
  },
  {
   "cell_type": "code",
   "execution_count": 3,
   "metadata": {},
   "outputs": [
    {
     "name": "stdout",
     "output_type": "stream",
     "text": [
      "Saved FeatureData[Conditional] to: EM_LearningRate_1e-5_ranks-300.qza\n",
      "Saved PCoAResults % Properties('biplot') to: EM_LearningRate_1e-5_biplot-300.qza\n"
     ]
    },
    {
     "name": "stderr",
     "output_type": "stream",
     "text": [
      "Could not find conda environment: qiime2-2020.6\n",
      "You can list all discoverable environments with `conda info --envs`.\n",
      "\n"
     ]
    }
   ],
   "source": [
    "%%bash\n",
    "\n",
    "source activate qiime2-2020.6\n",
    "# Run mmvec\n",
    "\n",
    "qiime mmvec paired-omics \\\n",
    "--i-microbes microbes_feature_table_otu.qza \\\n",
    "--i-metabolites metabolite_feature_table_final.qza \\\n",
    "--p-learning-rate 1e-5 \\\n",
    "--p-epochs 300 \\\n",
    "--o-conditionals EM_LearningRate_1e-5_ranks-300.qza \\\n",
    "--o-conditional-biplot EM_LearningRate_1e-5_biplot-300.qza"
   ]
  },
  {
   "cell_type": "code",
   "execution_count": 2,
   "metadata": {},
   "outputs": [
    {
     "name": "stdout",
     "output_type": "stream",
     "text": [
      "Saved Visualization to: EM_LearningRate_1e-5_ranks-300.qzv\n"
     ]
    },
    {
     "name": "stderr",
     "output_type": "stream",
     "text": [
      "Could not find conda environment: qiime2-2020.2\n",
      "You can list all discoverable environments with `conda info --envs`.\n",
      "\n"
     ]
    }
   ],
   "source": [
    "%%bash\n",
    "\n",
    "source activate qiime2-2020.2\n",
    "\n",
    "qiime metadata tabulate \\\n",
    "--m-input-file EM_LearningRate_1e-5_ranks-300.qza \\\n",
    "--o-visualization EM_LearningRate_1e-5_ranks-300.qzv"
   ]
  },
  {
   "cell_type": "code",
   "execution_count": 3,
   "metadata": {},
   "outputs": [
    {
     "name": "stdout",
     "output_type": "stream",
     "text": [
      "Saved Visualization to: EM_LearningRate_1e-5_ranks-200.qzv\n"
     ]
    },
    {
     "name": "stderr",
     "output_type": "stream",
     "text": [
      "Could not find conda environment: qiime2-2020.2\n",
      "You can list all discoverable environments with `conda info --envs`.\n",
      "\n"
     ]
    }
   ],
   "source": [
    "%%bash\n",
    "\n",
    "source activate qiime2-2020.2\n",
    "\n",
    "qiime metadata tabulate \\\n",
    "--m-input-file EM_LearningRate_1e-5_ranks-200.qza \\\n",
    "--o-visualization EM_LearningRate_1e-5_ranks-200.qzv"
   ]
  },
  {
   "cell_type": "code",
   "execution_count": 24,
   "metadata": {},
   "outputs": [
    {
     "name": "stdout",
     "output_type": "stream",
     "text": [
      "Saved Visualization to: EM_LearningRate_1e-1_biplot_viz.qzv\n"
     ]
    },
    {
     "name": "stderr",
     "output_type": "stream",
     "text": [
      "Could not find conda environment: qiime2-2020.2\n",
      "You can list all discoverable environments with `conda info --envs`.\n",
      "\n"
     ]
    }
   ],
   "source": [
    "%%bash\n",
    "\n",
    "source activate qiime2-2020.2\n",
    "\n",
    "qiime emperor biplot \\\n",
    "--i-biplot EM_LearningRate_1e-1_biplot.qza \\\n",
    "--m-sample-metadata-file metabolites_metadata_table_final.txt \\\n",
    "--m-feature-metadata-file microbe_metadata_features_new_otu.txt \\\n",
    "--p-number-of-features 10 \\\n",
    "--o-visualization EM_LearningRate_1e-1_biplot_viz.qzv"
   ]
  },
  {
   "cell_type": "code",
   "execution_count": 31,
   "metadata": {},
   "outputs": [
    {
     "name": "stdout",
     "output_type": "stream",
     "text": [
      "Saved Visualization to: EM_LearningRate_1e-1_biplot_viz_test.qzv\n"
     ]
    },
    {
     "name": "stderr",
     "output_type": "stream",
     "text": [
      "Could not find conda environment: qiime2-2020.2\n",
      "You can list all discoverable environments with `conda info --envs`.\n",
      "\n"
     ]
    }
   ],
   "source": [
    "%%bash\n",
    "\n",
    "source activate qiime2-2020.2\n",
    "\n",
    "qiime emperor biplot \\\n",
    "--i-biplot EM_LearningRate_1e-1_biplot.qza \\\n",
    "--m-sample-metadata-file metabolites_metadata_table_final_mz.txt \\\n",
    "--m-feature-metadata-file microbe_metadata_features_new_otu.txt \\\n",
    "--p-number-of-features 10 \\\n",
    "--o-visualization EM_LearningRate_1e-1_biplot_viz_test.qzv"
   ]
  },
  {
   "cell_type": "code",
   "execution_count": 38,
   "metadata": {},
   "outputs": [
    {
     "name": "stdout",
     "output_type": "stream",
     "text": [
      "Saved Visualization to: EM_LearningRate_1e-5_biplot_viz_500.qzv\n"
     ]
    },
    {
     "name": "stderr",
     "output_type": "stream",
     "text": [
      "Could not find conda environment: qiime2-2020.2\n",
      "You can list all discoverable environments with `conda info --envs`.\n",
      "\n"
     ]
    }
   ],
   "source": [
    "%%bash\n",
    "\n",
    "source activate qiime2-2020.2\n",
    "\n",
    "qiime emperor biplot \\\n",
    "--i-biplot EM_LearningRate_1e-5_biplot.qza \\\n",
    "--m-sample-metadata-file metabolites_metadata_table_final_mz.txt \\\n",
    "--m-feature-metadata-file microbe_metadata_features_new_otu.txt \\\n",
    "--p-number-of-features 500 \\\n",
    "--o-visualization EM_LearningRate_1e-5_biplot_viz_500.qzv"
   ]
  },
  {
   "cell_type": "code",
   "execution_count": 25,
   "metadata": {},
   "outputs": [
    {
     "name": "stdout",
     "output_type": "stream",
     "text": [
      "Saved Visualization to: EM_LearningRate_1e-2_biplot_viz.qzv\n"
     ]
    },
    {
     "name": "stderr",
     "output_type": "stream",
     "text": [
      "Could not find conda environment: qiime2-2020.2\n",
      "You can list all discoverable environments with `conda info --envs`.\n",
      "\n"
     ]
    }
   ],
   "source": [
    "%%bash\n",
    "\n",
    "source activate qiime2-2020.2\n",
    "\n",
    "qiime emperor biplot \\\n",
    "--i-biplot EM_LearningRate_1e-2_biplot.qza \\\n",
    "--m-sample-metadata-file metabolites_metadata_table_final.txt \\\n",
    "--m-feature-metadata-file microbe_metadata_features_new_otu.txt \\\n",
    "--p-number-of-features 10 \\\n",
    "--o-visualization EM_LearningRate_1e-2_biplot_viz.qzv"
   ]
  },
  {
   "cell_type": "code",
   "execution_count": 26,
   "metadata": {},
   "outputs": [
    {
     "name": "stdout",
     "output_type": "stream",
     "text": [
      "Saved Visualization to: EM_LearningRate_1e-3_biplot_viz.qzv\n"
     ]
    },
    {
     "name": "stderr",
     "output_type": "stream",
     "text": [
      "Could not find conda environment: qiime2-2020.2\n",
      "You can list all discoverable environments with `conda info --envs`.\n",
      "\n"
     ]
    }
   ],
   "source": [
    "%%bash\n",
    "\n",
    "source activate qiime2-2020.2\n",
    "\n",
    "qiime emperor biplot \\\n",
    "--i-biplot EM_LearningRate_1e-3_biplot.qza \\\n",
    "--m-sample-metadata-file metabolites_metadata_table_final.txt \\\n",
    "--m-feature-metadata-file microbe_metadata_features_new_otu.txt \\\n",
    "--p-number-of-features 10 \\\n",
    "--o-visualization EM_LearningRate_1e-3_biplot_viz.qzv"
   ]
  },
  {
   "cell_type": "code",
   "execution_count": 27,
   "metadata": {},
   "outputs": [
    {
     "name": "stdout",
     "output_type": "stream",
     "text": [
      "Saved Visualization to: EM_LearningRate_1e-5_biplot_viz.qzv\n"
     ]
    },
    {
     "name": "stderr",
     "output_type": "stream",
     "text": [
      "Could not find conda environment: qiime2-2020.2\n",
      "You can list all discoverable environments with `conda info --envs`.\n",
      "\n"
     ]
    }
   ],
   "source": [
    "%%bash\n",
    "\n",
    "source activate qiime2-2020.2\n",
    "\n",
    "qiime emperor biplot \\\n",
    "--i-biplot EM_LearningRate_1e-5_biplot.qza \\\n",
    "--m-sample-metadata-file metabolites_metadata_table_final.txt \\\n",
    "--m-feature-metadata-file microbe_metadata_features_new_otu.txt \\\n",
    "--p-number-of-features 10 \\\n",
    "--o-visualization EM_LearningRate_1e-5_biplot_viz.qzv"
   ]
  },
  {
   "cell_type": "code",
   "execution_count": 34,
   "metadata": {},
   "outputs": [
    {
     "name": "stdout",
     "output_type": "stream",
     "text": [
      "Saved Visualization to: EM_LearningRate_1e-1_ranks_heatmap.qzv\n"
     ]
    },
    {
     "name": "stderr",
     "output_type": "stream",
     "text": [
      "Could not find conda environment: qiime2-2020.2\n",
      "You can list all discoverable environments with `conda info --envs`.\n",
      "\n"
     ]
    }
   ],
   "source": [
    "%%bash\n",
    "\n",
    "source activate qiime2-2020.2\n",
    "\n",
    "#  Generate the heatmap. You can also apply metrics here with\n",
    "#  --p-metric xxx...\n",
    "\n",
    "qiime mmvec heatmap \\\n",
    "  --i-ranks EM_LearningRate_1e-1_ranks.qza \\\n",
    "  --m-microbe-metadata-file microbe_metadata_features_new_otu.txt \\\n",
    "  --m-microbe-metadata-column taxon \\\n",
    "  --p-level -1 \\\n",
    "  --o-visualization EM_LearningRate_1e-1_ranks_heatmap.qzv"
   ]
  },
  {
   "cell_type": "code",
   "execution_count": null,
   "metadata": {},
   "outputs": [],
   "source": [
    "%%bash\n",
    "\n",
    "source activate qiime2-2020.2\n",
    "\n",
    "#  Generate the heatmap. You can also apply metrics here with\n",
    "#  --p-metric xxx...\n",
    "\n",
    "qiime mmvec heatmap \\\n",
    "  --i-ranks EM_LearningRate_1e-1_ranks.qza \\\n",
    "  --m-microbe-metadata-file microbe_metadata_features_new_otu.txt \\\n",
    "  --m-microbe-metadata-column taxon \\\n",
    "  --m-metabolite-metadata-file metabolites_metadata_table_final_mz.txt \\\n",
    "  --m-metabolite-metadata-column metabolite \\\n",
    "  --p-level -1 \\ \n",
    "  --o-visualization EM_LearningRate_1e-1_ranks_heatmap_p5.qzv"
   ]
  },
  {
   "cell_type": "code",
   "execution_count": 24,
   "metadata": {},
   "outputs": [
    {
     "name": "stderr",
     "output_type": "stream",
     "text": [
      "Could not find conda environment: qiime2-2020.6\n",
      "You can list all discoverable environments with `conda info --envs`.\n",
      "\n",
      "Usage: qiime mmvec paired-heatmap [OPTIONS]\n",
      "\n",
      "  Generate paired heatmaps that depict microbial and metabolite feature\n",
      "  abundances. The left panel displays the abundance of each selected\n",
      "  microbial feature in each sample. The right panel displays the abundances\n",
      "  of the top k metabolites most highly correlated with these microbes in\n",
      "  each sample. The y-axis (sample axis) is shared between each panel.\n",
      "\n",
      "Inputs:\n",
      "  --i-ranks ARTIFACT FeatureData[Conditional]\n",
      "                          Conditional probabilities.                [required]\n",
      "  --i-microbes-table ARTIFACT FeatureTable[Frequency]\n",
      "                          Microbial feature abundances.             [required]\n",
      "  --i-metabolites-table ARTIFACT FeatureTable[Frequency]\n",
      "                          Metabolite feature abundances.            [required]\n",
      "Parameters:\n",
      "  --p-features TEXT...    Microbial feature IDs to display in heatmap. Use\n",
      "    List[Str]             this parameter to include named feature IDs in the\n",
      "                          heatmap. Can be used in conjunction with\n",
      "                          top-k-microbes, in which case named features will be\n",
      "                          displayed first, then top microbial features in\n",
      "                          order of log conditional probability maximum values.\n",
      "                                                                    [optional]\n",
      "  --p-top-k-microbes INTEGER\n",
      "    Range(0, None)        Select top k microbes (those with the highest\n",
      "                          relative abundances) to display on the heatmap. Set\n",
      "                          to \"all\" to display all metabolites.    [default: 2]\n",
      "  --p-keep-top-samples / --p-no-keep-top-samples\n",
      "                          Display only samples in which at least one of the\n",
      "                          selected microbes is the most abundant feature.\n",
      "                                                               [default: True]\n",
      "  --m-microbe-metadata-file METADATA\n",
      "  --m-microbe-metadata-column COLUMN  MetadataColumn[Categorical]\n",
      "                          Optional microbe metadata for annotating plots.\n",
      "                                                                    [optional]\n",
      "  --p-normalize TEXT Choices('log10', 'z_score_col', 'z_score_row',\n",
      "    'rel_row', 'rel_col', 'None')\n",
      "                          Optionally normalize heatmap values by columns or\n",
      "                          rows.                             [default: 'log10']\n",
      "  --p-color-palette TEXT Choices('PiYG', 'PRGn', 'BrBG', 'PuOr', 'RdGy',\n",
      "    'RdBu', 'RdYlBu', 'RdYlGn', 'Spectral', 'coolwarm', 'bwr', 'seismic',\n",
      "    'viridis', 'plasma', 'inferno', 'magma', 'cividis')\n",
      "                          Color palette for clustermap.     [default: 'magma']\n",
      "  --p-top-k-metabolites VALUE Int % Range(1, None) | Str % Choices('all')\n",
      "                          Select top k metabolites associated with each of\n",
      "                          the chosen features to display on heatmap.\n",
      "                                                                 [default: 50]\n",
      "  --p-level INTEGER       taxonomic level for annotating clustermap. Set to\n",
      "    Range(-1, None)       -1 if not parsing semicolon-delimited taxonomies or\n",
      "                          wish to print entire annotation.       [default: -1]\n",
      "  --p-row-center / --p-no-row-center\n",
      "                          Center conditional probability table around average\n",
      "                          row.                                 [default: True]\n",
      "Outputs:\n",
      "  --o-visualization VISUALIZATION\n",
      "                                                                    [required]\n",
      "Miscellaneous:\n",
      "  --output-dir PATH       Output unspecified results to a directory\n",
      "  --verbose / --quiet     Display verbose output to stdout and/or stderr\n",
      "                          during execution of this action. Or silence output\n",
      "                          if execution is successful (silence is golden).\n",
      "  --examples              Show usage examples and exit.\n",
      "  --citations             Show citations and exit.\n",
      "  --help                  Show this message and exit.\n",
      "\n",
      "                  There were some problems with the command:                  \n",
      " (1/2) Missing option '--i-metabolites-table'.\n",
      " (2/2) Missing option '--o-visualization'.  (\"--output-dir\" may also be used)\n",
      "bash: line 7: --i-metabolites-table: command not found\n"
     ]
    },
    {
     "ename": "CalledProcessError",
     "evalue": "Command 'b'\\nsource activate qiime2-2020.6\\n\\nqiime mmvec paired-heatmap \\\\\\n  --i-ranks EM_LearningRate_1e-5_ranks.qza \\\\\\n  --i-microbes-table microbes_mmvec_teste.qza \\n  --i-metabolites-table metabolites_mmvec_teste.qza \\\\\\n  --m-microbe-metadata-file metadata_microbes_teste.txt \\\\\\n  --m-microbe-metadata-column Taxon \\\\\\n  --p-features OtuXXXXX \\\\\\n  --p-features OtuXXXXX \\\\\\n  --p-top-k-microbes 0 \\\\\\n  --p-normalize rel_row \\\\\\n  --p-top-k-metabolites 50 \\\\\\n  --p-level 5 \\\\\\n  --o-visualization EM_LearningRate_1e-5_ranks_paired-heatmap.qzv \\\\\\n'' returned non-zero exit status 127.",
     "output_type": "error",
     "traceback": [
      "\u001b[0;31m---------------------------------------------------------------------------\u001b[0m",
      "\u001b[0;31mCalledProcessError\u001b[0m                        Traceback (most recent call last)",
      "\u001b[0;32m<ipython-input-24-f4d3ed70dd64>\u001b[0m in \u001b[0;36m<module>\u001b[0;34m\u001b[0m\n\u001b[0;32m----> 1\u001b[0;31m \u001b[0mget_ipython\u001b[0m\u001b[0;34m(\u001b[0m\u001b[0;34m)\u001b[0m\u001b[0;34m.\u001b[0m\u001b[0mrun_cell_magic\u001b[0m\u001b[0;34m(\u001b[0m\u001b[0;34m'bash'\u001b[0m\u001b[0;34m,\u001b[0m \u001b[0;34m''\u001b[0m\u001b[0;34m,\u001b[0m \u001b[0;34m'\\nsource activate qiime2-2020.6\\n\\nqiime mmvec paired-heatmap \\\\\\n  --i-ranks EM_LearningRate_1e-5_ranks.qza \\\\\\n  --i-microbes-table microbes_mmvec_teste.qza \\n  --i-metabolites-table metabolites_mmvec_teste.qza \\\\\\n  --m-microbe-metadata-file metadata_microbes_teste.txt \\\\\\n  --m-microbe-metadata-column Taxon \\\\\\n  --p-features OtuXXXXX \\\\\\n  --p-features OtuXXXXX \\\\\\n  --p-top-k-microbes 0 \\\\\\n  --p-normalize rel_row \\\\\\n  --p-top-k-metabolites 50 \\\\\\n  --p-level 5 \\\\\\n  --o-visualization EM_LearningRate_1e-5_ranks_paired-heatmap.qzv \\\\\\n'\u001b[0m\u001b[0;34m)\u001b[0m\u001b[0;34m\u001b[0m\u001b[0;34m\u001b[0m\u001b[0m\n\u001b[0m",
      "\u001b[0;32m~/opt/miniconda3/envs/qiime2-2020.6/lib/python3.6/site-packages/IPython/core/interactiveshell.py\u001b[0m in \u001b[0;36mrun_cell_magic\u001b[0;34m(self, magic_name, line, cell)\u001b[0m\n\u001b[1;32m   2360\u001b[0m             \u001b[0;32mwith\u001b[0m \u001b[0mself\u001b[0m\u001b[0;34m.\u001b[0m\u001b[0mbuiltin_trap\u001b[0m\u001b[0;34m:\u001b[0m\u001b[0;34m\u001b[0m\u001b[0;34m\u001b[0m\u001b[0m\n\u001b[1;32m   2361\u001b[0m                 \u001b[0margs\u001b[0m \u001b[0;34m=\u001b[0m \u001b[0;34m(\u001b[0m\u001b[0mmagic_arg_s\u001b[0m\u001b[0;34m,\u001b[0m \u001b[0mcell\u001b[0m\u001b[0;34m)\u001b[0m\u001b[0;34m\u001b[0m\u001b[0;34m\u001b[0m\u001b[0m\n\u001b[0;32m-> 2362\u001b[0;31m                 \u001b[0mresult\u001b[0m \u001b[0;34m=\u001b[0m \u001b[0mfn\u001b[0m\u001b[0;34m(\u001b[0m\u001b[0;34m*\u001b[0m\u001b[0margs\u001b[0m\u001b[0;34m,\u001b[0m \u001b[0;34m**\u001b[0m\u001b[0mkwargs\u001b[0m\u001b[0;34m)\u001b[0m\u001b[0;34m\u001b[0m\u001b[0;34m\u001b[0m\u001b[0m\n\u001b[0m\u001b[1;32m   2363\u001b[0m             \u001b[0;32mreturn\u001b[0m \u001b[0mresult\u001b[0m\u001b[0;34m\u001b[0m\u001b[0;34m\u001b[0m\u001b[0m\n\u001b[1;32m   2364\u001b[0m \u001b[0;34m\u001b[0m\u001b[0m\n",
      "\u001b[0;32m~/opt/miniconda3/envs/qiime2-2020.6/lib/python3.6/site-packages/IPython/core/magics/script.py\u001b[0m in \u001b[0;36mnamed_script_magic\u001b[0;34m(line, cell)\u001b[0m\n\u001b[1;32m    140\u001b[0m             \u001b[0;32melse\u001b[0m\u001b[0;34m:\u001b[0m\u001b[0;34m\u001b[0m\u001b[0;34m\u001b[0m\u001b[0m\n\u001b[1;32m    141\u001b[0m                 \u001b[0mline\u001b[0m \u001b[0;34m=\u001b[0m \u001b[0mscript\u001b[0m\u001b[0;34m\u001b[0m\u001b[0;34m\u001b[0m\u001b[0m\n\u001b[0;32m--> 142\u001b[0;31m             \u001b[0;32mreturn\u001b[0m \u001b[0mself\u001b[0m\u001b[0;34m.\u001b[0m\u001b[0mshebang\u001b[0m\u001b[0;34m(\u001b[0m\u001b[0mline\u001b[0m\u001b[0;34m,\u001b[0m \u001b[0mcell\u001b[0m\u001b[0;34m)\u001b[0m\u001b[0;34m\u001b[0m\u001b[0;34m\u001b[0m\u001b[0m\n\u001b[0m\u001b[1;32m    143\u001b[0m \u001b[0;34m\u001b[0m\u001b[0m\n\u001b[1;32m    144\u001b[0m         \u001b[0;31m# write a basic docstring:\u001b[0m\u001b[0;34m\u001b[0m\u001b[0;34m\u001b[0m\u001b[0;34m\u001b[0m\u001b[0m\n",
      "\u001b[0;32m<decorator-gen-110>\u001b[0m in \u001b[0;36mshebang\u001b[0;34m(self, line, cell)\u001b[0m\n",
      "\u001b[0;32m~/opt/miniconda3/envs/qiime2-2020.6/lib/python3.6/site-packages/IPython/core/magic.py\u001b[0m in \u001b[0;36m<lambda>\u001b[0;34m(f, *a, **k)\u001b[0m\n\u001b[1;32m    185\u001b[0m     \u001b[0;31m# but it's overkill for just that one bit of state.\u001b[0m\u001b[0;34m\u001b[0m\u001b[0;34m\u001b[0m\u001b[0;34m\u001b[0m\u001b[0m\n\u001b[1;32m    186\u001b[0m     \u001b[0;32mdef\u001b[0m \u001b[0mmagic_deco\u001b[0m\u001b[0;34m(\u001b[0m\u001b[0marg\u001b[0m\u001b[0;34m)\u001b[0m\u001b[0;34m:\u001b[0m\u001b[0;34m\u001b[0m\u001b[0;34m\u001b[0m\u001b[0m\n\u001b[0;32m--> 187\u001b[0;31m         \u001b[0mcall\u001b[0m \u001b[0;34m=\u001b[0m \u001b[0;32mlambda\u001b[0m \u001b[0mf\u001b[0m\u001b[0;34m,\u001b[0m \u001b[0;34m*\u001b[0m\u001b[0ma\u001b[0m\u001b[0;34m,\u001b[0m \u001b[0;34m**\u001b[0m\u001b[0mk\u001b[0m\u001b[0;34m:\u001b[0m \u001b[0mf\u001b[0m\u001b[0;34m(\u001b[0m\u001b[0;34m*\u001b[0m\u001b[0ma\u001b[0m\u001b[0;34m,\u001b[0m \u001b[0;34m**\u001b[0m\u001b[0mk\u001b[0m\u001b[0;34m)\u001b[0m\u001b[0;34m\u001b[0m\u001b[0;34m\u001b[0m\u001b[0m\n\u001b[0m\u001b[1;32m    188\u001b[0m \u001b[0;34m\u001b[0m\u001b[0m\n\u001b[1;32m    189\u001b[0m         \u001b[0;32mif\u001b[0m \u001b[0mcallable\u001b[0m\u001b[0;34m(\u001b[0m\u001b[0marg\u001b[0m\u001b[0;34m)\u001b[0m\u001b[0;34m:\u001b[0m\u001b[0;34m\u001b[0m\u001b[0;34m\u001b[0m\u001b[0m\n",
      "\u001b[0;32m~/opt/miniconda3/envs/qiime2-2020.6/lib/python3.6/site-packages/IPython/core/magics/script.py\u001b[0m in \u001b[0;36mshebang\u001b[0;34m(self, line, cell)\u001b[0m\n\u001b[1;32m    243\u001b[0m             \u001b[0msys\u001b[0m\u001b[0;34m.\u001b[0m\u001b[0mstderr\u001b[0m\u001b[0;34m.\u001b[0m\u001b[0mflush\u001b[0m\u001b[0;34m(\u001b[0m\u001b[0;34m)\u001b[0m\u001b[0;34m\u001b[0m\u001b[0;34m\u001b[0m\u001b[0m\n\u001b[1;32m    244\u001b[0m         \u001b[0;32mif\u001b[0m \u001b[0margs\u001b[0m\u001b[0;34m.\u001b[0m\u001b[0mraise_error\u001b[0m \u001b[0;32mand\u001b[0m \u001b[0mp\u001b[0m\u001b[0;34m.\u001b[0m\u001b[0mreturncode\u001b[0m\u001b[0;34m!=\u001b[0m\u001b[0;36m0\u001b[0m\u001b[0;34m:\u001b[0m\u001b[0;34m\u001b[0m\u001b[0;34m\u001b[0m\u001b[0m\n\u001b[0;32m--> 245\u001b[0;31m             \u001b[0;32mraise\u001b[0m \u001b[0mCalledProcessError\u001b[0m\u001b[0;34m(\u001b[0m\u001b[0mp\u001b[0m\u001b[0;34m.\u001b[0m\u001b[0mreturncode\u001b[0m\u001b[0;34m,\u001b[0m \u001b[0mcell\u001b[0m\u001b[0;34m,\u001b[0m \u001b[0moutput\u001b[0m\u001b[0;34m=\u001b[0m\u001b[0mout\u001b[0m\u001b[0;34m,\u001b[0m \u001b[0mstderr\u001b[0m\u001b[0;34m=\u001b[0m\u001b[0merr\u001b[0m\u001b[0;34m)\u001b[0m\u001b[0;34m\u001b[0m\u001b[0;34m\u001b[0m\u001b[0m\n\u001b[0m\u001b[1;32m    246\u001b[0m \u001b[0;34m\u001b[0m\u001b[0m\n\u001b[1;32m    247\u001b[0m     \u001b[0;32mdef\u001b[0m \u001b[0m_run_script\u001b[0m\u001b[0;34m(\u001b[0m\u001b[0mself\u001b[0m\u001b[0;34m,\u001b[0m \u001b[0mp\u001b[0m\u001b[0;34m,\u001b[0m \u001b[0mcell\u001b[0m\u001b[0;34m,\u001b[0m \u001b[0mto_close\u001b[0m\u001b[0;34m)\u001b[0m\u001b[0;34m:\u001b[0m\u001b[0;34m\u001b[0m\u001b[0;34m\u001b[0m\u001b[0m\n",
      "\u001b[0;31mCalledProcessError\u001b[0m: Command 'b'\\nsource activate qiime2-2020.6\\n\\nqiime mmvec paired-heatmap \\\\\\n  --i-ranks EM_LearningRate_1e-5_ranks.qza \\\\\\n  --i-microbes-table microbes_mmvec_teste.qza \\n  --i-metabolites-table metabolites_mmvec_teste.qza \\\\\\n  --m-microbe-metadata-file metadata_microbes_teste.txt \\\\\\n  --m-microbe-metadata-column Taxon \\\\\\n  --p-features OtuXXXXX \\\\\\n  --p-features OtuXXXXX \\\\\\n  --p-top-k-microbes 0 \\\\\\n  --p-normalize rel_row \\\\\\n  --p-top-k-metabolites 50 \\\\\\n  --p-level 5 \\\\\\n  --o-visualization EM_LearningRate_1e-5_ranks_paired-heatmap.qzv \\\\\\n'' returned non-zero exit status 127."
     ]
    }
   ],
   "source": [
    "%%bash\n",
    "\n",
    "source activate qiime2-2020.6\n",
    "\n",
    "qiime mmvec paired-heatmap \\\n",
    "  --i-ranks EM_LearningRate_1e-5_ranks.qza \\\n",
    "  --i-microbes-table microbes_mmvec_teste.qza \n",
    "  --i-metabolites-table metabolites_mmvec_teste.qza \\\n",
    "  --m-microbe-metadata-file metadata_microbes_teste.txt \\\n",
    "  --m-microbe-metadata-column Taxon \\\n",
    "  --p-features OtuXXXXX \\\n",
    "  --p-features OtuXXXXX \\\n",
    "  --p-top-k-microbes 0 \\\n",
    "  --p-normalize rel_row \\\n",
    "  --p-top-k-metabolites 50 \\\n",
    "  --p-level 5 \\\n",
    "  --o-visualization EM_LearningRate_1e-5_ranks_paired-heatmap.qzv \\"
   ]
  },
  {
   "cell_type": "code",
   "execution_count": null,
   "metadata": {},
   "outputs": [],
   "source": []
  },
  {
   "cell_type": "code",
   "execution_count": null,
   "metadata": {},
   "outputs": [],
   "source": []
  },
  {
   "cell_type": "code",
   "execution_count": null,
   "metadata": {},
   "outputs": [],
   "source": []
  },
  {
   "cell_type": "code",
   "execution_count": null,
   "metadata": {},
   "outputs": [],
   "source": []
  },
  {
   "cell_type": "code",
   "execution_count": null,
   "metadata": {},
   "outputs": [],
   "source": []
  }
 ],
 "metadata": {
  "kernelspec": {
   "display_name": "Python 3",
   "language": "python",
   "name": "python3"
  },
  "language_info": {
   "codemirror_mode": {
    "name": "ipython",
    "version": 3
   },
   "file_extension": ".py",
   "mimetype": "text/x-python",
   "name": "python",
   "nbconvert_exporter": "python",
   "pygments_lexer": "ipython3",
   "version": "3.6.13"
  }
 },
 "nbformat": 4,
 "nbformat_minor": 4
}
