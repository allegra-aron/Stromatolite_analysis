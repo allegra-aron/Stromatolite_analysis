{
 "cells": [
  {
   "cell_type": "code",
   "execution_count": 1,
   "id": "capable-strategy",
   "metadata": {},
   "outputs": [],
   "source": [
    "import qiime2\n",
    "import os"
   ]
  },
  {
   "cell_type": "code",
   "execution_count": 3,
   "id": "subject-feedback",
   "metadata": {},
   "outputs": [
    {
     "name": "stdout",
     "output_type": "stream",
     "text": [
      "Saved FeatureData[Molecules] to: classified-merged-feature-data.qza\n"
     ]
    }
   ],
   "source": [
    "%%bash\n",
    "\n",
    "source activate qiime2-2021.2\n",
    "\n",
    "qiime qemistree get-classyfire-taxonomy \\\n",
    "  --i-feature-data merged-feature-data.qza \\\n",
    "  --o-classified-feature-data classified-merged-feature-data.qza"
   ]
  },
  {
   "cell_type": "code",
   "execution_count": 5,
   "id": "northern-administrator",
   "metadata": {},
   "outputs": [
    {
     "name": "stdout",
     "output_type": "stream",
     "text": [
      "Saved Phylogeny[Rooted] to: merged-qemistree-class.qza\n"
     ]
    }
   ],
   "source": [
    "%%bash\n",
    "\n",
    "source activate qiime2-2021.2\n",
    "\n",
    "qiime qemistree prune-hierarchy \\\n",
    "  --i-feature-data classified-merged-feature-data.qza \\\n",
    "  --p-column class \\\n",
    "  --i-tree qemistree.qza \\\n",
    "  --o-pruned-tree merged-qemistree-class.qza"
   ]
  },
  {
   "cell_type": "code",
   "execution_count": 18,
   "id": "intensive-suffering",
   "metadata": {},
   "outputs": [
    {
     "name": "stdout",
     "output_type": "stream",
     "text": [
      "Saved Visualization to: empress-tree.qzv\n"
     ]
    }
   ],
   "source": [
    "%%bash\n",
    "\n",
    "source activate qiime2-2021.2\n",
    "\n",
    "qiime empress community-plot \\\n",
    "    --i-tree merged-qemistree-class.qza \\\n",
    "    --i-feature-table merged-feature-table.qza \\\n",
    "    --p-filter-missing-features \\\n",
    "    --m-sample-metadata-file metadata_table-00001.txt \\\n",
    "    --m-feature-metadata-file classified-merged-feature-data.qza \\\n",
    "    --o-visualization empress-tree.qzv"
   ]
  },
  {
   "cell_type": "code",
   "execution_count": 19,
   "id": "bound-reducing",
   "metadata": {},
   "outputs": [
    {
     "name": "stdout",
     "output_type": "stream",
     "text": [
      "Saved Visualization to: empress-tree-2.qzv\n"
     ]
    }
   ],
   "source": [
    "%%bash\n",
    "\n",
    "source activate qiime2-2021.2\n",
    "\n",
    "qiime empress community-plot \\\n",
    "    --i-tree merged-qemistree-class.qza \\\n",
    "    --i-feature-table merged-feature-table.qza \\\n",
    "    --p-filter-missing-features \\\n",
    "    --m-sample-metadata-file qiime2_metadata.tsv \\\n",
    "    --m-feature-metadata-file classified-merged-feature-data.qza \\\n",
    "    --o-visualization empress-tree-2.qzv"
   ]
  },
  {
   "cell_type": "code",
   "execution_count": null,
   "id": "anonymous-clerk",
   "metadata": {},
   "outputs": [],
   "source": []
  }
 ],
 "metadata": {
  "kernelspec": {
   "display_name": "Python 3",
   "language": "python",
   "name": "python3"
  },
  "language_info": {
   "codemirror_mode": {
    "name": "ipython",
    "version": 3
   },
   "file_extension": ".py",
   "mimetype": "text/x-python",
   "name": "python",
   "nbconvert_exporter": "python",
   "pygments_lexer": "ipython3",
   "version": "3.6.13"
  }
 },
 "nbformat": 4,
 "nbformat_minor": 5
}
